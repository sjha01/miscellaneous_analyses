{
 "cells": [
  {
   "cell_type": "code",
   "execution_count": 1,
   "metadata": {
    "collapsed": false
   },
   "outputs": [],
   "source": [
    "import numpy as np\n",
    "from collections import OrderedDict"
   ]
  },
  {
   "cell_type": "code",
   "execution_count": 2,
   "metadata": {
    "collapsed": false
   },
   "outputs": [],
   "source": [
    "import csv\n",
    "with open('online-data-chapter-2-whr-2017-sheet-1.csv', 'r') as f:\n",
    "    reader = csv.reader(f)\n",
    "    whr_data = list(reader)\n"
   ]
  },
  {
   "cell_type": "code",
   "execution_count": 3,
   "metadata": {
    "collapsed": false
   },
   "outputs": [
    {
     "name": "stdout",
     "output_type": "stream",
     "text": [
      "27\n"
     ]
    }
   ],
   "source": [
    "print(len(whr_data[0]))"
   ]
  },
  {
   "cell_type": "code",
   "execution_count": 4,
   "metadata": {
    "collapsed": false
   },
   "outputs": [
    {
     "name": "stdout",
     "output_type": "stream",
     "text": [
      "year\n"
     ]
    }
   ],
   "source": [
    "print(whr_data[0][2])"
   ]
  },
  {
   "cell_type": "code",
   "execution_count": 5,
   "metadata": {
    "collapsed": false
   },
   "outputs": [
    {
     "name": "stdout",
     "output_type": "stream",
     "text": [
      "[2008, 2009, 2010, 2011, 2012]\n",
      "2005 2016\n"
     ]
    }
   ],
   "source": [
    "years = [int(item[2]) for item in whr_data[1:]]\n",
    "print(years[0:5])\n",
    "print(np.min(years[1:]), np.max(years[1:]))"
   ]
  },
  {
   "cell_type": "code",
   "execution_count": 6,
   "metadata": {
    "collapsed": true
   },
   "outputs": [],
   "source": [
    "whr_data_2005 = [item for item in whr_data if item[2] in ['year', '2005']]\n",
    "whr_data_2006 = [item for item in whr_data if item[2] in ['year', '2006']]\n",
    "whr_data_2007 = [item for item in whr_data if item[2] in ['year', '2007']]\n",
    "whr_data_2008 = [item for item in whr_data if item[2] in ['year', '2008']]\n",
    "whr_data_2009 = [item for item in whr_data if item[2] in ['year', '2009']]\n",
    "whr_data_2010 = [item for item in whr_data if item[2] in ['year', '2010']]\n",
    "whr_data_2011 = [item for item in whr_data if item[2] in ['year', '2011']]\n",
    "whr_data_2012 = [item for item in whr_data if item[2] in ['year', '2012']]\n",
    "whr_data_2013 = [item for item in whr_data if item[2] in ['year', '2013']]\n",
    "whr_data_2014 = [item for item in whr_data if item[2] in ['year', '2014']]\n",
    "whr_data_2015 = [item for item in whr_data if item[2] in ['year', '2015']]\n",
    "whr_data_2016 = [item for item in whr_data if item[2] in ['year', '2016']]"
   ]
  },
  {
   "cell_type": "code",
   "execution_count": 7,
   "metadata": {
    "collapsed": false
   },
   "outputs": [
    {
     "name": "stdout",
     "output_type": "stream",
     "text": [
      "['Afghanistan', 'Albania', 'Algeria', 'Angola', 'Argentina', 'Armenia', 'Australia', 'Austria', 'Azerbaijan', 'Bahrain']\n",
      "164\n"
     ]
    }
   ],
   "source": [
    "countries = list(OrderedDict.fromkeys([item[1] for item in whr_data[1:]]))\n",
    "print(countries[:10])\n",
    "print(len(countries))"
   ]
  },
  {
   "cell_type": "code",
   "execution_count": 8,
   "metadata": {
    "collapsed": false
   },
   "outputs": [
    {
     "name": "stdout",
     "output_type": "stream",
     "text": [
      "27\n"
     ]
    },
    {
     "data": {
      "text/plain": [
       "[1, 1, 1, 1]"
      ]
     },
     "execution_count": 8,
     "metadata": {},
     "output_type": "execute_result"
    }
   ],
   "source": [
    "print(len(whr_data_2005[0]))\n",
    "[1]*4"
   ]
  },
  {
   "cell_type": "code",
   "execution_count": 9,
   "metadata": {
    "collapsed": false
   },
   "outputs": [],
   "source": [
    "whr_data_2005b = [[''] * 27 for item in range(len(countries))]\n",
    "whr_data_2006b = [[''] * 27 for item in range(len(countries))]\n",
    "whr_data_2007b = [[''] * 27 for item in range(len(countries))]\n",
    "whr_data_2008b = [[''] * 27 for item in range(len(countries))]\n",
    "whr_data_2009b = [[''] * 27 for item in range(len(countries))]\n",
    "whr_data_2010b = [[''] * 27 for item in range(len(countries))]\n",
    "whr_data_2011b = [[''] * 27 for item in range(len(countries))]\n",
    "whr_data_2012b = [[''] * 27 for item in range(len(countries))]\n",
    "whr_data_2013b = [[''] * 27 for item in range(len(countries))]\n",
    "whr_data_2014b = [[''] * 27 for item in range(len(countries))]\n",
    "whr_data_2015b = [[''] * 27 for item in range(len(countries))]\n",
    "whr_data_2016b = [[''] * 27 for item in range(len(countries))]\n",
    "\n",
    "for i in range(len(countries)):\n",
    "    if countries[i] in [item[1] for item in whr_data_2005]:\n",
    "        j = [item[1] for item in whr_data_2005].index(countries[i])\n",
    "        whr_data_2005b[i] = whr_data_2005[j]\n",
    "\n",
    "for i in range(len(countries)):\n",
    "    if countries[i] in [item[1] for item in whr_data_2006]:\n",
    "        j = [item[1] for item in whr_data_2006].index(countries[i])\n",
    "        whr_data_2006b[i] = whr_data_2006[j]\n",
    "\n",
    "for i in range(len(countries)):\n",
    "    if countries[i] in [item[1] for item in whr_data_2007]:\n",
    "        j = [item[1] for item in whr_data_2007].index(countries[i])\n",
    "        whr_data_2007b[i] = whr_data_2007[j]\n",
    "\n",
    "for i in range(len(countries)):\n",
    "    if countries[i] in [item[1] for item in whr_data_2008]:\n",
    "        j = [item[1] for item in whr_data_2008].index(countries[i])\n",
    "        whr_data_2008b[i] = whr_data_2008[j]\n",
    "\n",
    "for i in range(len(countries)):\n",
    "    if countries[i] in [item[1] for item in whr_data_2009]:\n",
    "        j = [item[1] for item in whr_data_2009].index(countries[i])\n",
    "        whr_data_2009b[i] = whr_data_2009[j]\n",
    "\n",
    "for i in range(len(countries)):\n",
    "    if countries[i] in [item[1] for item in whr_data_2010]:\n",
    "        j = [item[1] for item in whr_data_2010].index(countries[i])\n",
    "        whr_data_2010b[i] = whr_data_2010[j]\n",
    "\n",
    "for i in range(len(countries)):\n",
    "    if countries[i] in [item[1] for item in whr_data_2011]:\n",
    "        j = [item[1] for item in whr_data_2011].index(countries[i])\n",
    "        whr_data_2011b[i] = whr_data_2011[j]\n",
    "\n",
    "for i in range(len(countries)):\n",
    "    if countries[i] in [item[1] for item in whr_data_2012]:\n",
    "        j = [item[1] for item in whr_data_2012].index(countries[i])\n",
    "        whr_data_2012b[i] = whr_data_2012[j]\n",
    "\n",
    "for i in range(len(countries)):\n",
    "    if countries[i] in [item[1] for item in whr_data_2013]:\n",
    "        j = [item[1] for item in whr_data_2013].index(countries[i])\n",
    "        whr_data_2013b[i] = whr_data_2013[j]\n",
    "\n",
    "for i in range(len(countries)):\n",
    "    if countries[i] in [item[1] for item in whr_data_2014]:\n",
    "        j = [item[1] for item in whr_data_2014].index(countries[i])\n",
    "        whr_data_2014b[i] = whr_data_2014[j]\n",
    "\n",
    "for i in range(len(countries)):\n",
    "    if countries[i] in [item[1] for item in whr_data_2015]:\n",
    "        j = [item[1] for item in whr_data_2015].index(countries[i])\n",
    "        whr_data_2015b[i] = whr_data_2015[j]\n",
    "\n",
    "for i in range(len(countries)):\n",
    "    if countries[i] in [item[1] for item in whr_data_2016]:\n",
    "        j = [item[1] for item in whr_data_2016].index(countries[i])\n",
    "        whr_data_2016b[i] = whr_data_2016[j]"
   ]
  },
  {
   "cell_type": "code",
   "execution_count": 11,
   "metadata": {
    "collapsed": false
   },
   "outputs": [],
   "source": [
    "np.savetxt('countries.csv', countries, delimiter=\",\", fmt=\"%s\")\n",
    "np.savetxt('2005.csv', whr_data_2005b, delimiter=\",\", fmt=\"%s\")\n",
    "np.savetxt('2006.csv', whr_data_2006b, delimiter=\",\", fmt=\"%s\")\n",
    "np.savetxt('2007.csv', whr_data_2007b, delimiter=\",\", fmt=\"%s\")\n",
    "np.savetxt('2008.csv', whr_data_2008b, delimiter=\",\", fmt=\"%s\")\n",
    "np.savetxt('2009.csv', whr_data_2009b, delimiter=\",\", fmt=\"%s\")\n",
    "np.savetxt('2010.csv', whr_data_2010b, delimiter=\",\", fmt=\"%s\")\n",
    "np.savetxt('2011.csv', whr_data_2011b, delimiter=\",\", fmt=\"%s\")\n",
    "np.savetxt('2012.csv', whr_data_2012b, delimiter=\",\", fmt=\"%s\")\n",
    "np.savetxt('2013.csv', whr_data_2013b, delimiter=\",\", fmt=\"%s\")\n",
    "np.savetxt('2014.csv', whr_data_2014b, delimiter=\",\", fmt=\"%s\")\n",
    "np.savetxt('2015.csv', whr_data_2015b, delimiter=\",\", fmt=\"%s\")\n",
    "np.savetxt('2016.csv', whr_data_2016b, delimiter=\",\", fmt=\"%s\")"
   ]
  },
  {
   "cell_type": "code",
   "execution_count": null,
   "metadata": {
    "collapsed": true
   },
   "outputs": [],
   "source": []
  }
 ],
 "metadata": {
  "anaconda-cloud": {},
  "kernelspec": {
   "display_name": "Python [default]",
   "language": "python",
   "name": "python3"
  },
  "language_info": {
   "codemirror_mode": {
    "name": "ipython",
    "version": 3
   },
   "file_extension": ".py",
   "mimetype": "text/x-python",
   "name": "python",
   "nbconvert_exporter": "python",
   "pygments_lexer": "ipython3",
   "version": "3.5.2"
  }
 },
 "nbformat": 4,
 "nbformat_minor": 2
}
