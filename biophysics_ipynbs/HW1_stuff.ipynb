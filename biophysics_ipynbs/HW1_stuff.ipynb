{
 "cells": [
  {
   "cell_type": "code",
   "execution_count": 1,
   "metadata": {
    "collapsed": true
   },
   "outputs": [],
   "source": [
    "import numpy as np\n",
    "import matplotlib.pyplot as plt\n",
    "%matplotlib inline"
   ]
  },
  {
   "cell_type": "markdown",
   "metadata": {},
   "source": [
    "## Definining functions for problem 6"
   ]
  },
  {
   "cell_type": "code",
   "execution_count": 2,
   "metadata": {
    "collapsed": true
   },
   "outputs": [],
   "source": [
    "#event likely to have occured if r * dt > 0.5.\n",
    "#Note: gauranteed to have occured for too large of chosen dt\n",
    "#basically works best for r * dt << 1\n",
    "def occurred(r, dt):\n",
    "    return np.random.uniform() < r * dt\n",
    "\n",
    "#for small enough time intervals dt, this should give distribution\n",
    "#similar to poisson distribution in total time T\n",
    "#works best for r * dt << 1 and dt << T\n",
    "def occurrences(r, dt, T):\n",
    "    successes = 0\n",
    "    num_intervals = int(T / dt)\n",
    "    for i in range(num_intervals):\n",
    "        successes += occurred(r, dt)\n",
    "    return successes\n",
    "\n",
    "#Actual Poisson function\n",
    "#probability that k events occur in interval dt (seconds per interval) if they occur at rate r (events per second)\n",
    "def poisson(r, T, k):\n",
    "    return np.exp(-r * T) * (r * T)**k / np.math.factorial(k)\n",
    "\n",
    "# time between occurences\n",
    "def tau(r, dt):\n",
    "    if r * dt < 1 / 10000:\n",
    "        raise ValueError('this is going to take too long.')\n",
    "    success = False\n",
    "    t = -1 * dt\n",
    "    while not success:\n",
    "        t += dt\n",
    "        success = occurred(r, dt)\n",
    "    return t\n",
    "\n",
    "def prob_tau(r, t):\n",
    "    return r * np.exp(- r * t)"
   ]
  },
  {
   "cell_type": "markdown",
   "metadata": {},
   "source": [
    "## Problem 6a"
   ]
  },
  {
   "cell_type": "code",
   "execution_count": 3,
   "metadata": {
    "collapsed": true
   },
   "outputs": [],
   "source": [
    "r_1 = 0.1\n",
    "dt_1 = 1\n",
    "T = 100\n",
    "samples = 500\n",
    "occurrences_1 = [occurrences(r_1, dt_1, T) for item in range(samples)]"
   ]
  },
  {
   "cell_type": "code",
   "execution_count": 4,
   "metadata": {
    "collapsed": false
   },
   "outputs": [
    {
     "name": "stdout",
     "output_type": "stream",
     "text": [
      "mean: 9.78\n",
      "expected mean (r * T): 10.0\n",
      "variance: 8.45651302605\n",
      "expected variance (r * T): 10.0\n"
     ]
    }
   ],
   "source": [
    "print('mean: ' + str(np.mean(occurrences_1)))\n",
    "print('expected mean (r * T): ' + str(r_1 * T))\n",
    "\n",
    "print('variance: ' + str(np.var(occurrences_1) * samples / (samples - 1)))\n",
    "print('expected variance (r * T): ' + str(r_1 * T))"
   ]
  },
  {
   "cell_type": "code",
   "execution_count": 5,
   "metadata": {
    "collapsed": false
   },
   "outputs": [
    {
     "data": {
      "text/plain": [
       "[<matplotlib.lines.Line2D at 0x24690258128>]"
      ]
     },
     "execution_count": 5,
     "metadata": {},
     "output_type": "execute_result"
    },
    {
     "data": {
      "text/plain": [
       "<matplotlib.figure.Figure at 0x24695ac15c0>"
      ]
     },
     "metadata": {},
     "output_type": "display_data"
    },
    {
     "data": {
      "image/png": "[encoded data removed]",
      "text/plain": [
       "<matplotlib.figure.Figure at 0x24695ac1588>"
      ]
     },
     "metadata": {},
     "output_type": "display_data"
    }
   ],
   "source": [
    "plt.clf()\n",
    "fig = plt.figure()\n",
    "ax1 = fig.add_subplot(111)\n",
    "n, bins, rectangles = ax1.hist(occurrences_1, normed=True)\n",
    "\n",
    "x = range(21)\n",
    "y = [poisson(r_1, T, item) for item in x]\n",
    "ax1.plot(x, y)"
   ]
  },
  {
   "cell_type": "markdown",
   "metadata": {},
   "source": [
    "## Problem 6b"
   ]
  },
  {
   "cell_type": "markdown",
   "metadata": {},
   "source": [
    "### Set I: r = 10.0"
   ]
  },
  {
   "cell_type": "code",
   "execution_count": 6,
   "metadata": {
    "collapsed": true
   },
   "outputs": [],
   "source": [
    "r_2 = 10.0\n",
    "dt_2 = 0.05\n",
    "samples = 500\n",
    "taus_2 = [tau(r_2, dt_2) for item in range(samples)]"
   ]
  },
  {
   "cell_type": "code",
   "execution_count": 7,
   "metadata": {
    "collapsed": false
   },
   "outputs": [
    {
     "data": {
      "text/plain": [
       "[<matplotlib.lines.Line2D at 0x24695c41ef0>]"
      ]
     },
     "execution_count": 7,
     "metadata": {},
     "output_type": "execute_result"
    },
    {
     "data": {
      "text/plain": [
       "<matplotlib.figure.Figure at 0x24695b7e400>"
      ]
     },
     "metadata": {},
     "output_type": "display_data"
    },
    {
     "data": {
      "image/png": "[encoded data removed]",
      "text/plain": [
       "<matplotlib.figure.Figure at 0x24695b78d30>"
      ]
     },
     "metadata": {},
     "output_type": "display_data"
    }
   ],
   "source": [
    "plt.clf()\n",
    "fig = plt.figure()\n",
    "ax1 = fig.add_subplot(111)\n",
    "\n",
    "n, bins, rectangles = ax1.hist(taus_2, normed=True)\n",
    "\n",
    "x = list(np.arange(0, 0.61, 0.01))\n",
    "y = [prob_tau(r_2, item) for item in x]\n",
    "\n",
    "ax1.plot(x, y)"
   ]
  },
  {
   "cell_type": "code",
   "execution_count": 8,
   "metadata": {
    "collapsed": false
   },
   "outputs": [
    {
     "data": {
      "text/plain": [
       "[<matplotlib.lines.Line2D at 0x24695dad748>]"
      ]
     },
     "execution_count": 8,
     "metadata": {},
     "output_type": "execute_result"
    },
    {
     "data": {
      "text/plain": [
       "<matplotlib.figure.Figure at 0x24695aa6ef0>"
      ]
     },
     "metadata": {},
     "output_type": "display_data"
    },
    {
     "data": {
      "image/png": "[encoded data removed]",
      "text/plain": [
       "<matplotlib.figure.Figure at 0x24695aa6940>"
      ]
     },
     "metadata": {},
     "output_type": "display_data"
    }
   ],
   "source": [
    "plt.clf()\n",
    "fig = plt.figure()\n",
    "ax1 = fig.add_subplot(111)\n",
    "plt.yscale('log')\n",
    "n, bins, rectangles = ax1.hist(taus_2, normed=True)\n",
    "\n",
    "x = list(np.arange(0, 0.61, 0.01))\n",
    "y = [prob_tau(r_2, item) for item in x]\n",
    "\n",
    "ax1.plot(x, y)"
   ]
  },
  {
   "cell_type": "markdown",
   "metadata": {},
   "source": [
    "### Set II: r = 0.1"
   ]
  },
  {
   "cell_type": "code",
   "execution_count": 9,
   "metadata": {
    "collapsed": true
   },
   "outputs": [],
   "source": [
    "r_3 = 0.1\n",
    "dt_3 = 0.05\n",
    "T = 100\n",
    "samples = 500\n",
    "taus_3 = [tau(r_3, dt_3) for item in range(samples)]"
   ]
  },
  {
   "cell_type": "code",
   "execution_count": 10,
   "metadata": {
    "collapsed": false
   },
   "outputs": [
    {
     "data": {
      "text/plain": [
       "[<matplotlib.lines.Line2D at 0x2469718d1d0>]"
      ]
     },
     "execution_count": 10,
     "metadata": {},
     "output_type": "execute_result"
    },
    {
     "data": {
      "text/plain": [
       "<matplotlib.figure.Figure at 0x246971137b8>"
      ]
     },
     "metadata": {},
     "output_type": "display_data"
    },
    {
     "data": {
      "image/png": "[encoded data removed]",
      "text/plain": [
       "<matplotlib.figure.Figure at 0x24697113278>"
      ]
     },
     "metadata": {},
     "output_type": "display_data"
    }
   ],
   "source": [
    "plt.clf()\n",
    "fig = plt.figure()\n",
    "ax1 = fig.add_subplot(111)\n",
    "n, bins, rectangles = ax1.hist(taus_3, normed=True)\n",
    "\n",
    "x = list(np.arange(0, 60, 1))\n",
    "y = [prob_tau(r_3, item) for item in x]\n",
    "\n",
    "ax1.plot(x, y)"
   ]
  },
  {
   "cell_type": "code",
   "execution_count": 11,
   "metadata": {
    "collapsed": false
   },
   "outputs": [
    {
     "data": {
      "text/plain": [
       "[<matplotlib.lines.Line2D at 0x24695e683c8>]"
      ]
     },
     "execution_count": 11,
     "metadata": {},
     "output_type": "execute_result"
    },
    {
     "data": {
      "text/plain": [
       "<matplotlib.figure.Figure at 0x2469719c160>"
      ]
     },
     "metadata": {},
     "output_type": "display_data"
    },
    {
     "data": {
      "image/png": "[encoded data removed]",
      "text/plain": [
       "<matplotlib.figure.Figure at 0x24697197e48>"
      ]
     },
     "metadata": {},
     "output_type": "display_data"
    }
   ],
   "source": [
    "plt.clf()\n",
    "fig = plt.figure()\n",
    "ax1 = fig.add_subplot(111)\n",
    "plt.yscale('log')\n",
    "n, bins, rectangles = ax1.hist(taus_3, normed=True)\n",
    "\n",
    "x = list(np.arange(0, 60, 1))\n",
    "y = [prob_tau(r_3, item) for item in x]\n",
    "\n",
    "ax1.plot(x, y)"
   ]
  },
  {
   "cell_type": "code",
   "execution_count": null,
   "metadata": {
    "collapsed": true
   },
   "outputs": [],
   "source": []
  }
 ],
 "metadata": {
  "anaconda-cloud": {},
  "kernelspec": {
   "display_name": "Python [default]",
   "language": "python",
   "name": "python3"
  },
  "language_info": {
   "codemirror_mode": {
    "name": "ipython",
    "version": 3
   },
   "file_extension": ".py",
   "mimetype": "text/x-python",
   "name": "python",
   "nbconvert_exporter": "python",
   "pygments_lexer": "ipython3",
   "version": "3.5.2"
  }
 },
 "nbformat": 4,
 "nbformat_minor": 2
}
