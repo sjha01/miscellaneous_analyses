{
 "cells": [
  {
   "cell_type": "code",
   "execution_count": 1,
   "metadata": {
    "collapsed": true
   },
   "outputs": [],
   "source": [
    "import numpy as np\n",
    "import matplotlib.pyplot as plt\n",
    "%matplotlib inline"
   ]
  },
  {
   "cell_type": "markdown",
   "metadata": {},
   "source": [
    "# Problem 4 code"
   ]
  },
  {
   "cell_type": "markdown",
   "metadata": {},
   "source": [
    "## Part a"
   ]
  },
  {
   "cell_type": "code",
   "execution_count": 84,
   "metadata": {
    "collapsed": true
   },
   "outputs": [],
   "source": [
    "def resistant(n_0, alpha_g, generations, return_type='last'):\n",
    "    \n",
    "    if return_type not in ['last', 'all']:\n",
    "        raise ValueError('return_type must be \\'last\\' or \\'all\\'')\n",
    "    \n",
    "    n_regular = n_0\n",
    "    n_mutated = 0\n",
    "    \n",
    "    mutated = np.zeros(generations + 1).astype(int)\n",
    "    \n",
    "    for gen in range(1, generations + 1):\n",
    "        n_tot = 2**gen * n_0\n",
    "        n_mutants_from_prev_gen = 2 * mutated[gen - 1]\n",
    "        n_new_candidates = n_tot - n_mutants_from_prev_gen\n",
    "        n_mutants_from_this_gen = np.random.binomial(n_new_candidates, alpha_g)\n",
    "        n_mutants = n_mutants_from_prev_gen + n_mutants_from_this_gen\n",
    "        mutated[gen] = n_mutants\n",
    "    \n",
    "    if return_type == 'last':\n",
    "        return mutated[-1]\n",
    "    else:\n",
    "        return mutated\n",
    "\n",
    "def resistant_with_first_gen(n_0, alpha_g, generations):\n",
    "        \n",
    "    first_gen = generations + 1\n",
    "    \n",
    "    n_regular = n_0\n",
    "    n_mutated = 0\n",
    "    \n",
    "    mutated = np.zeros(generations + 1).astype(int)\n",
    "    \n",
    "    for gen in range(1, generations + 1):\n",
    "        n_tot = 2**gen * n_0\n",
    "        n_mutants_from_prev_gen = 2 * mutated[gen - 1]\n",
    "        n_new_candidates = n_tot - n_mutants_from_prev_gen\n",
    "        n_mutants_from_this_gen = np.random.binomial(n_new_candidates, alpha_g)\n",
    "        n_mutants = n_mutants_from_prev_gen + n_mutants_from_this_gen\n",
    "        mutated[gen] = n_mutants\n",
    "        if mutated[gen] > mutated[gen - 1] and first_gen == generations + 1:\n",
    "            first_gen = gen\n",
    "    \n",
    "    return first_gen, mutated[-1]"
   ]
  },
  {
   "cell_type": "code",
   "execution_count": 37,
   "metadata": {
    "collapsed": false
   },
   "outputs": [
    {
     "name": "stdout",
     "output_type": "stream",
     "text": [
      "[ 100  200  400  800 1600 3200]\n",
      "1279\n"
     ]
    }
   ],
   "source": [
    "test = resistant(100, .1, 5)\n",
    "print(np.array([100 * 2**item for item in range(6)]))\n",
    "print(test)"
   ]
  },
  {
   "cell_type": "code",
   "execution_count": 14,
   "metadata": {
    "collapsed": false
   },
   "outputs": [
    {
     "name": "stdout",
     "output_type": "stream",
     "text": [
      "2\n"
     ]
    }
   ],
   "source": [
    "test = [item for item in range(3)]\n",
    "print(test[-1])"
   ]
  },
  {
   "cell_type": "code",
   "execution_count": 9,
   "metadata": {
    "collapsed": false
   },
   "outputs": [
    {
     "name": "stdout",
     "output_type": "stream",
     "text": [
      "[1]\n"
     ]
    }
   ],
   "source": [
    "print([item for item in range(1, 2)])"
   ]
  },
  {
   "cell_type": "markdown",
   "metadata": {},
   "source": [
    "## Part b"
   ]
  },
  {
   "cell_type": "code",
   "execution_count": 62,
   "metadata": {
    "collapsed": false
   },
   "outputs": [
    {
     "name": "stdout",
     "output_type": "stream",
     "text": [
      "mean: 9.98\n",
      "variance: 2516.96152305\n",
      "std: 50.169328509\n"
     ]
    }
   ],
   "source": [
    "C = 500\n",
    "n_0 = 200\n",
    "alpha_g = 2.0 * 10 ** -9.0\n",
    "g = 21\n",
    "\n",
    "m_values = 0 * np.arange(1, C + 1)\n",
    "\n",
    "for sample in range(C):\n",
    "    m_values[sample] = resistant(200, alpha_g, g)\n",
    "\n",
    "print('mean: ' + str(np.mean(m_values)))\n",
    "print('variance: ' + str(np.var(m_values) * C / (C - 1)))\n",
    "print('std: ' + str(np.sqrt(np.var(m_values) * C / (C - 1))))"
   ]
  },
  {
   "cell_type": "code",
   "execution_count": 63,
   "metadata": {
    "collapsed": false
   },
   "outputs": [
    {
     "data": {
      "text/plain": [
       "<matplotlib.figure.Figure at 0x235241145c0>"
      ]
     },
     "metadata": {},
     "output_type": "display_data"
    },
    {
     "data": {
      "image/png": "[encoded data removed]",
      "text/plain": [
       "<matplotlib.figure.Figure at 0x23523f92f60>"
      ]
     },
     "metadata": {},
     "output_type": "display_data"
    }
   ],
   "source": [
    "plt.clf()\n",
    "fig = plt.figure()\n",
    "ax1 = fig.add_subplot(111)\n",
    "n, bins, rectangles = ax1.hist(m_values, 100, normed=True)\n",
    "plt.show()"
   ]
  },
  {
   "cell_type": "code",
   "execution_count": 64,
   "metadata": {
    "collapsed": false
   },
   "outputs": [
    {
     "data": {
      "text/plain": [
       "<matplotlib.figure.Figure at 0x235254697b8>"
      ]
     },
     "metadata": {},
     "output_type": "display_data"
    },
    {
     "data": {
      "image/png": "[encoded data removed]",
      "text/plain": [
       "<matplotlib.figure.Figure at 0x23525469b38>"
      ]
     },
     "metadata": {},
     "output_type": "display_data"
    }
   ],
   "source": [
    "plt.clf()\n",
    "fig = plt.figure()\n",
    "ax1 = fig.add_subplot(111)\n",
    "n, bins, rectangles = ax1.hist(m_values, 100, normed=True, log=True)\n",
    "plt.show()"
   ]
  },
  {
   "cell_type": "markdown",
   "metadata": {},
   "source": [
    "## Part c"
   ]
  },
  {
   "cell_type": "code",
   "execution_count": 71,
   "metadata": {
    "collapsed": false
   },
   "outputs": [
    {
     "name": "stdout",
     "output_type": "stream",
     "text": [
      "means: [6 9 9]\n",
      "variances: [ 212 1799 1010]\n",
      "standard deviations:[14 42 31]\n"
     ]
    }
   ],
   "source": [
    "C = 500\n",
    "n_0 = 200\n",
    "alpha_g = 2.0 * 10 ** -9.0\n",
    "g = 21\n",
    "M = 3\n",
    "\n",
    "means = np.array([0, 0, 0])\n",
    "variances = np.array([0, 0, 0])\n",
    "stds = np.array([0, 0, 0])\n",
    "\n",
    "for test_set in range(M):\n",
    "    m_values = 0 * np.arange(1, C + 1)\n",
    "\n",
    "    for sample in range(C):\n",
    "        m_values[sample] = resistant(200, alpha_g, g)\n",
    "    \n",
    "    mu = np.mean(m_values)\n",
    "    var = np.var(m_values) * C / (C - 1)\n",
    "    means[test_set] = mu\n",
    "    variances[test_set] = var\n",
    "    stds[test_set] = np.sqrt(var)\n",
    "\n",
    "print('means: ' + str(means))\n",
    "print('variances: ' + str(variances))\n",
    "print('standard deviations:' + str(stds))"
   ]
  },
  {
   "cell_type": "markdown",
   "metadata": {},
   "source": [
    "## Part d"
   ]
  },
  {
   "cell_type": "code",
   "execution_count": 89,
   "metadata": {
    "collapsed": false
   },
   "outputs": [],
   "source": [
    "C = 500\n",
    "n_0 = 200\n",
    "alpha_g = 2.0 * 10 ** -9.0\n",
    "g = 21\n",
    "\n",
    "first_gens = 0 * np.arange(1, C + 1)\n",
    "m_values = 0 * np.arange(1, C + 1)\n",
    "\n",
    "for sample in range(C):\n",
    "    f_g, m_v = resistant_with_first_gen(200, alpha_g, g)\n",
    "    first_gens[sample] = f_g\n",
    "    m_values[sample] = m_v"
   ]
  },
  {
   "cell_type": "code",
   "execution_count": 90,
   "metadata": {
    "collapsed": false
   },
   "outputs": [
    {
     "data": {
      "text/plain": [
       "<matplotlib.collections.PathCollection at 0x2352427f940>"
      ]
     },
     "execution_count": 90,
     "metadata": {},
     "output_type": "execute_result"
    },
    {
     "data": {
      "image/png": "[encoded data removed]",
      "text/plain": [
       "<matplotlib.figure.Figure at 0x23524264e10>"
      ]
     },
     "metadata": {},
     "output_type": "display_data"
    }
   ],
   "source": [
    "plt.clf()\n",
    "plt.scatter(first_gens, m_values)"
   ]
  },
  {
   "cell_type": "markdown",
   "metadata": {},
   "source": [
    "# Problem 5"
   ]
  },
  {
   "cell_type": "markdown",
   "metadata": {},
   "source": [
    "## Part a"
   ]
  },
  {
   "cell_type": "code",
   "execution_count": 109,
   "metadata": {
    "collapsed": false
   },
   "outputs": [
    {
     "name": "stdout",
     "output_type": "stream",
     "text": [
      "[   0    1    2    3    4    5    6   11   21   51  101  201  501 1001]\n",
      "[29 17  4  3  3  2  5  6  7  5  2  4  0  0]\n",
      "1908.0\n",
      "[   0.     1.     2.     3.     4.     5.     8.    15.5   35.5   75.5\n",
      "  150.5  350.5  750.5]\n",
      "mean: 193.692307692\n",
      "variance: 138801.050468\n",
      "standard deviation: 372.560130003\n"
     ]
    }
   ],
   "source": [
    "data_23 = np.load('PMLS_LD_Data/LDexpt23.npy')\n",
    "\n",
    "print(data_23[:, 0].astype(int))\n",
    "print(data_23[:, 1].astype(int))\n",
    "print(np.sum(data_23[:, 0]))\n",
    "\n",
    "#got rid of the last bin since nothing fell into it. \n",
    "bins = 0.5 * (data_23[1:, 0] + (data_23[:-1, 0] - 1)) # accounting for nonuniform bin size\n",
    "pops = data_23[:-1, 1]\n",
    "print(bins)\n",
    "data_23[:, 0] * data_23[:, 1]\n",
    "mean = np.mean(bins * pops)\n",
    "variance = np.var(bins * pops) * np.sum(pops) / (np.sum(pops) - 1)\n",
    "\n",
    "print('mean: ' + str(mean))\n",
    "print('variance: ' + str(variance))\n",
    "print('standard deviation: ' + str(np.sqrt(variance)))"
   ]
  },
  {
   "cell_type": "markdown",
   "metadata": {},
   "source": [
    "## Part b"
   ]
  },
  {
   "cell_type": "code",
   "execution_count": 111,
   "metadata": {
    "collapsed": false
   },
   "outputs": [
    {
     "name": "stdout",
     "output_type": "stream",
     "text": [
      "[   0    1    2    3    4    5    6   11   21   51  101  201  501 1001]\n",
      "[57 20  5  2  3  1  7  2  2  0  0  0  1  0]\n",
      "1908.0\n",
      "[   0.     1.     2.     3.     4.     5.     8.    15.5   35.5   75.5\n",
      "  150.5  350.5  750.5]\n",
      "mean: 73.9615384615\n",
      "variance: 39003.8252346\n",
      "standard deviation: 197.493861258\n"
     ]
    }
   ],
   "source": [
    "data_22 = np.load('PMLS_LD_Data/LDexpt22.npy')\n",
    "\n",
    "print(data_22[:, 0].astype(int))\n",
    "print(data_22[:, 1].astype(int))\n",
    "print(np.sum(data_23[:, 0]))\n",
    "\n",
    "#got rid of the last bin since nothing fell into it. \n",
    "bins = 0.5 * (data_22[1:, 0] + (data_22[:-1, 0] - 1)) # accounting for nonuniform bin size\n",
    "pops = data_22[:-1, 1]\n",
    "print(bins)\n",
    "data_22[:, 0] * data_22[:, 1]\n",
    "mean = np.mean(bins * pops)\n",
    "variance = np.var(bins * pops) * np.sum(pops) / (np.sum(pops) - 1)\n",
    "\n",
    "print('mean: ' + str(mean))\n",
    "print('variance: ' + str(variance))\n",
    "print('standard deviation: ' + str(np.sqrt(variance)))"
   ]
  },
  {
   "cell_type": "code",
   "execution_count": null,
   "metadata": {
    "collapsed": true
   },
   "outputs": [],
   "source": []
  }
 ],
 "metadata": {
  "anaconda-cloud": {},
  "kernelspec": {
   "display_name": "Python [default]",
   "language": "python",
   "name": "python3"
  },
  "language_info": {
   "codemirror_mode": {
    "name": "ipython",
    "version": 3
   },
   "file_extension": ".py",
   "mimetype": "text/x-python",
   "name": "python",
   "nbconvert_exporter": "python",
   "pygments_lexer": "ipython3",
   "version": "3.5.2"
  }
 },
 "nbformat": 4,
 "nbformat_minor": 2
}
