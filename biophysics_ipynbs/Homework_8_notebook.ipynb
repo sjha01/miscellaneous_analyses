{
 "cells": [
  {
   "cell_type": "markdown",
   "metadata": {},
   "source": [
    "# Homework 8"
   ]
  },
  {
   "cell_type": "code",
   "execution_count": 1,
   "metadata": {
    "collapsed": true
   },
   "outputs": [],
   "source": [
    "import numpy as np\n",
    "import matplotlib.pyplot as plt\n",
    "%matplotlib inline"
   ]
  },
  {
   "cell_type": "code",
   "execution_count": 2,
   "metadata": {
    "collapsed": false
   },
   "outputs": [],
   "source": [
    "#Prints each possible spin vector, and energies for each one\n",
    "def sigma_vec(N, mu=0, sigma=1):\n",
    "    \n",
    "    J = np.random.normal(mu, sigma, [N, N])\n",
    "    \n",
    "    vecN = np.array([int(d) for d in str(bin(2**N - 1))[2:]]) # vector for last possible spin vector\n",
    "    \n",
    "    for i in range(2**N):\n",
    "        sig = np.array([float(d) for d in str(bin(i))[2:]])\n",
    "        if len(sig) < len(vecN):\n",
    "            sig = np.append(np.zeros(len(vecN) - len(sig)), sig)\n",
    "        sig = 2.0 * (sig - 0.5)\n",
    "        \n",
    "        E = np.dot(np.dot(J, sig), sig)\n",
    "        \n",
    "        if i == 0:\n",
    "            E_prev = E\n",
    "            E_ref = E\n",
    "            #print(sig, E)\n",
    "        \n",
    "        elif E < E_ref:\n",
    "            E_prev = E_ref\n",
    "            E_ref = E\n",
    "            #print(sig, E)\n",
    "        \n",
    "    return E_ref, E_prev #gs, es1"
   ]
  },
  {
   "cell_type": "code",
   "execution_count": 3,
   "metadata": {
    "collapsed": true
   },
   "outputs": [],
   "source": [
    "#Prints each possible spin vector, and energies for each one\n",
    "def sigma_vec_2(N, J):\n",
    "    \n",
    "    vecN = np.array([int(d) for d in str(bin(2**N - 1))[2:]]) # vector for last possible spin vector\n",
    "    \n",
    "    for i in range(2**N):\n",
    "        sig = np.array([float(d) for d in str(bin(i))[2:]])\n",
    "        if len(sig) < len(vecN):\n",
    "            sig = np.append(np.zeros(len(vecN) - len(sig)), sig)\n",
    "        sig = 2.0 * (sig - 0.5)\n",
    "        \n",
    "        E = np.dot(np.dot(J, sig), sig)\n",
    "        \n",
    "        if i == 0:\n",
    "            E_prev = E\n",
    "            E_ref = E\n",
    "            #print(sig, E)\n",
    "        \n",
    "        elif E < E_ref:\n",
    "            E_prev = E_ref\n",
    "            E_ref = E\n",
    "            #print(sig, E)\n",
    "        \n",
    "    return E_ref, E_prev #gs, es1"
   ]
  },
  {
   "cell_type": "code",
   "execution_count": 4,
   "metadata": {
    "collapsed": false
   },
   "outputs": [
    {
     "name": "stdout",
     "output_type": "stream",
     "text": [
      "-23.6989838177 -16.5455670339\n"
     ]
    }
   ],
   "source": [
    "mu = 0.0\n",
    "sigma = 1.0\n",
    "N = 9\n",
    "\n",
    "#gs, es = sigma_vec(N)\n",
    "gs, es = sigma_vec(N)\n",
    "print(gs, es)"
   ]
  },
  {
   "cell_type": "code",
   "execution_count": 5,
   "metadata": {
    "collapsed": false
   },
   "outputs": [
    {
     "name": "stdout",
     "output_type": "stream",
     "text": [
      "[3, 4, 5, 6, 7, 8, 9, 10, 11, 12]\n",
      "[-2.6846442616846038, -5.0758527686821742, -7.6013893115915874, -12.353124503151134, -14.390000234262878, -20.205380148190713, -23.616420133028647, -24.817175946519455, -32.40902057930392, -36.84205794193926]\n"
     ]
    }
   ],
   "source": [
    "num_trials = 50\n",
    "N_list = [3, 4, 5, 6, 7, 8, 9, 10, 11, 12]\n",
    "E_ground = [0.0 for item in N_list]\n",
    "\n",
    "for N in range(len(N_list)):\n",
    "    gs = 0\n",
    "    \n",
    "    for trial in range(num_trials):\n",
    "        J_1 = np.random.normal(0.0, 1.0, [N_list[N], N_list[N]])\n",
    "        gs += sigma_vec_2(N_list[N], J_1)[0] / float(num_trials)\n",
    "    E_ground[N] = gs\n",
    "\n",
    "print(N_list)\n",
    "print(E_ground)"
   ]
  },
  {
   "cell_type": "code",
   "execution_count": 6,
   "metadata": {
    "collapsed": false
   },
   "outputs": [
    {
     "data": {
      "text/plain": [
       "<matplotlib.collections.PathCollection at 0x1764f1ec8d0>"
      ]
     },
     "execution_count": 6,
     "metadata": {},
     "output_type": "execute_result"
    },
    {
     "data": {
      "image/png": "[encoded data removed]",
      "text/plain": [
       "<matplotlib.figure.Figure at 0x1764f152da0>"
      ]
     },
     "metadata": {},
     "output_type": "display_data"
    }
   ],
   "source": [
    "plt.scatter(N_list, E_ground)"
   ]
  },
  {
   "cell_type": "code",
   "execution_count": 25,
   "metadata": {
    "collapsed": false
   },
   "outputs": [
    {
     "name": "stdout",
     "output_type": "stream",
     "text": [
      "[3, 4, 5, 6, 7, 8, 9, 10, 11, 12]\n",
      "[-1.6088187193138885, -2.6478718309744278, -3.7778761548326849, -4.1262411501840734, -5.327943078396002, -6.5685426814002499, -7.8324068452988387, -8.1149147169124678, -9.6327465863182233, -10.39373925230627]\n"
     ]
    }
   ],
   "source": [
    "num_trials = 50\n",
    "N_list = [3, 4, 5, 6, 7, 8, 9, 10, 11, 12]\n",
    "E_ground_2 = [0.0 for item in N_list]\n",
    "\n",
    "for N in range(len(N_list)):\n",
    "    gs = 0\n",
    "    \n",
    "    for trial in range(num_trials):\n",
    "        J_2 = np.random.normal(0.0, 1.0 / np.sqrt(N_list[N]), [N_list[N], N_list[N]])\n",
    "        gs += sigma_vec_2(N_list[N], J_2)[0] / float(num_trials)\n",
    "    E_ground_2[N] = gs\n",
    "\n",
    "print(N_list)\n",
    "print(E_ground_2)"
   ]
  },
  {
   "cell_type": "code",
   "execution_count": 26,
   "metadata": {
    "collapsed": false
   },
   "outputs": [
    {
     "data": {
      "text/plain": [
       "<matplotlib.collections.PathCollection at 0x176507a3ac8>"
      ]
     },
     "execution_count": 26,
     "metadata": {},
     "output_type": "execute_result"
    },
    {
     "data": {
      "image/png": "[encoded data removed]",
      "text/plain": [
       "<matplotlib.figure.Figure at 0x1765083f4e0>"
      ]
     },
     "metadata": {},
     "output_type": "display_data"
    }
   ],
   "source": [
    "plt.scatter(N_list, E_ground_2)"
   ]
  },
  {
   "cell_type": "code",
   "execution_count": 27,
   "metadata": {
    "collapsed": false
   },
   "outputs": [
    {
     "data": {
      "image/png": "[encoded data removed]",
      "text/plain": [
       "<matplotlib.figure.Figure at 0x17650827f28>"
      ]
     },
     "metadata": {},
     "output_type": "display_data"
    }
   ],
   "source": [
    "plt.clf()\n",
    "plt.plot(N_list, E_ground)\n",
    "plt.plot(N_list, E_ground_2)\n",
    "plt.legend(['sigma = constant', 'sigma = 1/sqrt(N)'])\n",
    "plt.title('Ground state energy vs. number of spins (50 trials)')\n",
    "plt.xlabel('Number of spins')\n",
    "plt.ylabel('Ground state energy')\n",
    "plt.tight_layout()\n",
    "plt.show()"
   ]
  },
  {
   "cell_type": "code",
   "execution_count": 22,
   "metadata": {
    "collapsed": false
   },
   "outputs": [
    {
     "name": "stdout",
     "output_type": "stream",
     "text": [
      "[0.2605292944431552, 0.67761118807508858, 2.3769942648342246, 0.38063775707243508, 1.59670416406823, 0.61473501383008333, 0.92891876281905894, 0.97636797714300272, 0.9414354478311342, 0.072985747856101568, 0.042786441943140296, 0.082161057052408282, 1.8051145154528463, 4.0908131487800006, 0.28669742540735932, 0.78788549434050648, 0.078484584375409838, 0.78122967424984058, 2.5368931853134864, 0.19510304247919841, 0.64805028617620319, 4.5070721535783171, 0.44876871219754388, 2.341806256507093, 0.59714983920914122, 0.065480998443712579, 0.78577225337090262, 0.0055705547641418107, 1.164918847549119, 2.1188847978253902, 0.21003078650015361, 1.2389722204397557, 0.82644939000986462, 0.69886306386021513, 0.19267308816568818, 0.080429098254360731, 0.64857409694551205, 0.21772731196807804, 0.4418965233750427, 0.40835624517069657, 1.4925941997872965, 0.16678154848462068, 3.041746117468044, 0.49860987341686425, 2.4666159798467335, 0.61933005619160042, 1.1871386665627242, 0.31340958541755093, 1.3189306841484258, 0.77328967560442319]\n"
     ]
    }
   ],
   "source": [
    "num_trials = 200\n",
    "N_list = [9 for item in range(50)]\n",
    "\n",
    "gap_2 = [0.0 for item in N_list]\n",
    "\n",
    "for N in range(len(N_list)):    \n",
    "    J_2 = np.random.normal(0.0, 1.0 / np.sqrt(N_list[N]), [N_list[N], N_list[N]])\n",
    "    gap = sigma_vec_2(N_list[N], J_2)[1] - sigma_vec_2(N_list[N], J_2)[0]\n",
    "    \n",
    "    gap_2[N] = gap\n",
    "\n",
    "#print(N_list)\n",
    "print(gap_2)"
   ]
  },
  {
   "cell_type": "code",
   "execution_count": 23,
   "metadata": {
    "collapsed": false
   },
   "outputs": [
    {
     "data": {
      "image/png": "[encoded data removed]",
      "text/plain": [
       "<matplotlib.figure.Figure at 0x17650789668>"
      ]
     },
     "metadata": {},
     "output_type": "display_data"
    }
   ],
   "source": [
    "plt.clf()\n",
    "plt.title('Delta = E_1 - E_0. 200 trials, N = 9, J_ij = Normal(mu=0, sigma=1/sqrt(N))')\n",
    "plt.xlabel('Delta = E_1 - E_0')\n",
    "plt.ylabel('Probability')\n",
    "plt.tight_layout()\n",
    "plt.hist(gap_2)\n",
    "plt.show()"
   ]
  },
  {
   "cell_type": "code",
   "execution_count": null,
   "metadata": {
    "collapsed": true
   },
   "outputs": [],
   "source": []
  }
 ],
 "metadata": {
  "anaconda-cloud": {},
  "kernelspec": {
   "display_name": "Python [default]",
   "language": "python",
   "name": "python3"
  },
  "language_info": {
   "codemirror_mode": {
    "name": "ipython",
    "version": 3
   },
   "file_extension": ".py",
   "mimetype": "text/x-python",
   "name": "python",
   "nbconvert_exporter": "python",
   "pygments_lexer": "ipython3",
   "version": "3.5.2"
  }
 },
 "nbformat": 4,
 "nbformat_minor": 2
}
